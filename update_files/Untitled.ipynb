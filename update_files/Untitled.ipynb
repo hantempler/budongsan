{
 "cells": [
  {
   "cell_type": "code",
   "execution_count": 1,
   "id": "c4d9d3dd-2821-41d2-9652-ee8fd53f9087",
   "metadata": {},
   "outputs": [],
   "source": [
    "import pandas as pd"
   ]
  },
  {
   "cell_type": "code",
   "execution_count": 2,
   "id": "ddaa514e-6579-4506-8578-bf0a477bf39d",
   "metadata": {},
   "outputs": [],
   "source": [
    "df = pd.read_csv(\"./location_code.csv\")"
   ]
  },
  {
   "cell_type": "code",
   "execution_count": 3,
   "id": "796a665c-43b4-4f90-bc9d-02af44016c20",
   "metadata": {},
   "outputs": [
    {
     "data": {
      "text/html": [
       "<div>\n",
       "<style scoped>\n",
       "    .dataframe tbody tr th:only-of-type {\n",
       "        vertical-align: middle;\n",
       "    }\n",
       "\n",
       "    .dataframe tbody tr th {\n",
       "        vertical-align: top;\n",
       "    }\n",
       "\n",
       "    .dataframe thead th {\n",
       "        text-align: right;\n",
       "    }\n",
       "</style>\n",
       "<table border=\"1\" class=\"dataframe\">\n",
       "  <thead>\n",
       "    <tr style=\"text-align: right;\">\n",
       "      <th></th>\n",
       "      <th>지역코드</th>\n",
       "      <th>읍면동</th>\n",
       "      <th>시도_명</th>\n",
       "      <th>시도_code</th>\n",
       "      <th>시군구_명</th>\n",
       "      <th>시군구_code</th>\n",
       "      <th>읍면동_명</th>\n",
       "      <th>읍면동_code</th>\n",
       "    </tr>\n",
       "  </thead>\n",
       "  <tbody>\n",
       "    <tr>\n",
       "      <th>0</th>\n",
       "      <td>1168010300</td>\n",
       "      <td>서울시 강남구 개포동</td>\n",
       "      <td>서울시</td>\n",
       "      <td>11</td>\n",
       "      <td>강남구</td>\n",
       "      <td>11680</td>\n",
       "      <td>개포동</td>\n",
       "      <td>1168010300</td>\n",
       "    </tr>\n",
       "    <tr>\n",
       "      <th>1</th>\n",
       "      <td>1168010800</td>\n",
       "      <td>서울시 강남구 논현동</td>\n",
       "      <td>서울시</td>\n",
       "      <td>11</td>\n",
       "      <td>강남구</td>\n",
       "      <td>11680</td>\n",
       "      <td>논현동</td>\n",
       "      <td>1168010800</td>\n",
       "    </tr>\n",
       "    <tr>\n",
       "      <th>2</th>\n",
       "      <td>1168010600</td>\n",
       "      <td>서울시 강남구 대치동</td>\n",
       "      <td>서울시</td>\n",
       "      <td>11</td>\n",
       "      <td>강남구</td>\n",
       "      <td>11680</td>\n",
       "      <td>대치동</td>\n",
       "      <td>1168010600</td>\n",
       "    </tr>\n",
       "    <tr>\n",
       "      <th>3</th>\n",
       "      <td>1168011800</td>\n",
       "      <td>서울시 강남구 도곡동</td>\n",
       "      <td>서울시</td>\n",
       "      <td>11</td>\n",
       "      <td>강남구</td>\n",
       "      <td>11680</td>\n",
       "      <td>도곡동</td>\n",
       "      <td>1168011800</td>\n",
       "    </tr>\n",
       "    <tr>\n",
       "      <th>4</th>\n",
       "      <td>1168010500</td>\n",
       "      <td>서울시 강남구 삼성동</td>\n",
       "      <td>서울시</td>\n",
       "      <td>11</td>\n",
       "      <td>강남구</td>\n",
       "      <td>11680</td>\n",
       "      <td>삼성동</td>\n",
       "      <td>1168010500</td>\n",
       "    </tr>\n",
       "  </tbody>\n",
       "</table>\n",
       "</div>"
      ],
      "text/plain": [
       "         지역코드          읍면동 시도_명  시도_code 시군구_명  시군구_code 읍면동_명    읍면동_code\n",
       "0  1168010300  서울시 강남구 개포동  서울시       11   강남구     11680   개포동  1168010300\n",
       "1  1168010800  서울시 강남구 논현동  서울시       11   강남구     11680   논현동  1168010800\n",
       "2  1168010600  서울시 강남구 대치동  서울시       11   강남구     11680   대치동  1168010600\n",
       "3  1168011800  서울시 강남구 도곡동  서울시       11   강남구     11680   도곡동  1168011800\n",
       "4  1168010500  서울시 강남구 삼성동  서울시       11   강남구     11680   삼성동  1168010500"
      ]
     },
     "execution_count": 3,
     "metadata": {},
     "output_type": "execute_result"
    }
   ],
   "source": [
    "df.head()"
   ]
  },
  {
   "cell_type": "code",
   "execution_count": 4,
   "id": "eb0dfac4-346b-4ff1-bad0-0ebc4b2ac0d6",
   "metadata": {},
   "outputs": [],
   "source": [
    "df[\"시도_code\"] = df[\"시도_code\"].astype(str)"
   ]
  },
  {
   "cell_type": "code",
   "execution_count": 5,
   "id": "effa191b-7279-4009-a1aa-fe20a7fa3416",
   "metadata": {},
   "outputs": [],
   "source": [
    "df[\"시군구_code\"] = df[\"시군구_code\"].astype(str)"
   ]
  },
  {
   "cell_type": "code",
   "execution_count": 6,
   "id": "4323f7c6-2733-46a4-80a4-926d3755596a",
   "metadata": {},
   "outputs": [],
   "source": [
    "df[\"읍면동_code\"] = df[\"읍면동_code\"].astype(str)"
   ]
  },
  {
   "cell_type": "code",
   "execution_count": 7,
   "id": "dba1de28-e2bd-421f-a3ea-ebb964c7519c",
   "metadata": {},
   "outputs": [],
   "source": [
    "city = df[[\"시도_명\", \"시도_code\"]]"
   ]
  },
  {
   "cell_type": "code",
   "execution_count": 8,
   "id": "1149ac1d-edec-4519-8cfc-2dd68a8bd1b6",
   "metadata": {},
   "outputs": [],
   "source": [
    "city = city.drop_duplicates().reset_index(drop=True)"
   ]
  },
  {
   "cell_type": "code",
   "execution_count": 9,
   "id": "80494659-13b5-47af-9e89-fd878be5e5ae",
   "metadata": {},
   "outputs": [
    {
     "name": "stdout",
     "output_type": "stream",
     "text": [
      "<class 'pandas.core.frame.DataFrame'>\n",
      "RangeIndex: 17 entries, 0 to 16\n",
      "Data columns (total 2 columns):\n",
      " #   Column   Non-Null Count  Dtype \n",
      "---  ------   --------------  ----- \n",
      " 0   시도_명     17 non-null     object\n",
      " 1   시도_code  17 non-null     object\n",
      "dtypes: object(2)\n",
      "memory usage: 404.0+ bytes\n"
     ]
    }
   ],
   "source": [
    "city.info()"
   ]
  },
  {
   "cell_type": "code",
   "execution_count": 10,
   "id": "c2be5b6a-20c8-42b3-acad-eaf16c0b020c",
   "metadata": {},
   "outputs": [],
   "source": [
    "city.columns = [\"city_name\", \"city_code\"]"
   ]
  },
  {
   "cell_type": "code",
   "execution_count": 11,
   "id": "a4591398-6636-4708-bce0-bdc5bfa59bbe",
   "metadata": {},
   "outputs": [
    {
     "name": "stdout",
     "output_type": "stream",
     "text": [
      "<class 'pandas.core.frame.DataFrame'>\n",
      "RangeIndex: 17 entries, 0 to 16\n",
      "Data columns (total 2 columns):\n",
      " #   Column     Non-Null Count  Dtype \n",
      "---  ------     --------------  ----- \n",
      " 0   city_name  17 non-null     object\n",
      " 1   city_code  17 non-null     object\n",
      "dtypes: object(2)\n",
      "memory usage: 404.0+ bytes\n"
     ]
    }
   ],
   "source": [
    "city.info()"
   ]
  },
  {
   "cell_type": "code",
   "execution_count": 80,
   "id": "76ebd3c5-98af-4497-9eb2-2cd24afc1f80",
   "metadata": {},
   "outputs": [],
   "source": [
    "city.to_csv(\"city.csv\", index = False)"
   ]
  },
  {
   "cell_type": "code",
   "execution_count": 81,
   "id": "5dd20290-f77a-44d3-ab48-f0a2b289eb87",
   "metadata": {},
   "outputs": [
    {
     "data": {
      "text/html": [
       "<div>\n",
       "<style scoped>\n",
       "    .dataframe tbody tr th:only-of-type {\n",
       "        vertical-align: middle;\n",
       "    }\n",
       "\n",
       "    .dataframe tbody tr th {\n",
       "        vertical-align: top;\n",
       "    }\n",
       "\n",
       "    .dataframe thead th {\n",
       "        text-align: right;\n",
       "    }\n",
       "</style>\n",
       "<table border=\"1\" class=\"dataframe\">\n",
       "  <thead>\n",
       "    <tr style=\"text-align: right;\">\n",
       "      <th></th>\n",
       "      <th>지역코드</th>\n",
       "      <th>읍면동</th>\n",
       "      <th>시도_명</th>\n",
       "      <th>시도_code</th>\n",
       "      <th>시군구_명</th>\n",
       "      <th>시군구_code</th>\n",
       "      <th>읍면동_명</th>\n",
       "      <th>읍면동_code</th>\n",
       "    </tr>\n",
       "  </thead>\n",
       "  <tbody>\n",
       "    <tr>\n",
       "      <th>0</th>\n",
       "      <td>1168010300</td>\n",
       "      <td>서울시 강남구 개포동</td>\n",
       "      <td>서울시</td>\n",
       "      <td>11</td>\n",
       "      <td>강남구</td>\n",
       "      <td>11680</td>\n",
       "      <td>개포동</td>\n",
       "      <td>1168010300</td>\n",
       "    </tr>\n",
       "  </tbody>\n",
       "</table>\n",
       "</div>"
      ],
      "text/plain": [
       "         지역코드          읍면동 시도_명 시도_code 시군구_명 시군구_code 읍면동_명    읍면동_code\n",
       "0  1168010300  서울시 강남구 개포동  서울시      11   강남구    11680   개포동  1168010300"
      ]
     },
     "execution_count": 81,
     "metadata": {},
     "output_type": "execute_result"
    }
   ],
   "source": [
    "df.head(1)"
   ]
  },
  {
   "cell_type": "code",
   "execution_count": 82,
   "id": "34045c93-ad66-42e5-8536-99361acc642d",
   "metadata": {},
   "outputs": [],
   "source": [
    "district = df[[\"시도_code\", \"시군구_명\", \"시군구_code\"]]"
   ]
  },
  {
   "cell_type": "code",
   "execution_count": 83,
   "id": "dc98b3bf-c359-4684-b340-963e2a23f5cb",
   "metadata": {},
   "outputs": [],
   "source": [
    "district = district.drop_duplicates().reset_index(drop=True)"
   ]
  },
  {
   "cell_type": "code",
   "execution_count": 84,
   "id": "d752d962-c202-40a5-846c-2eb01f3890bc",
   "metadata": {},
   "outputs": [],
   "source": [
    "district.columns = [\"city_code\", \"district_name\", \"district_code\"]"
   ]
  },
  {
   "cell_type": "code",
   "execution_count": 85,
   "id": "72ef2d92-55c9-43a7-b503-ada970e68d01",
   "metadata": {},
   "outputs": [
    {
     "data": {
      "text/html": [
       "<div>\n",
       "<style scoped>\n",
       "    .dataframe tbody tr th:only-of-type {\n",
       "        vertical-align: middle;\n",
       "    }\n",
       "\n",
       "    .dataframe tbody tr th {\n",
       "        vertical-align: top;\n",
       "    }\n",
       "\n",
       "    .dataframe thead th {\n",
       "        text-align: right;\n",
       "    }\n",
       "</style>\n",
       "<table border=\"1\" class=\"dataframe\">\n",
       "  <thead>\n",
       "    <tr style=\"text-align: right;\">\n",
       "      <th></th>\n",
       "      <th>city_code</th>\n",
       "      <th>district_name</th>\n",
       "      <th>district_code</th>\n",
       "    </tr>\n",
       "  </thead>\n",
       "  <tbody>\n",
       "    <tr>\n",
       "      <th>0</th>\n",
       "      <td>11</td>\n",
       "      <td>강남구</td>\n",
       "      <td>11680</td>\n",
       "    </tr>\n",
       "    <tr>\n",
       "      <th>1</th>\n",
       "      <td>11</td>\n",
       "      <td>강동구</td>\n",
       "      <td>11740</td>\n",
       "    </tr>\n",
       "    <tr>\n",
       "      <th>2</th>\n",
       "      <td>11</td>\n",
       "      <td>강북구</td>\n",
       "      <td>11305</td>\n",
       "    </tr>\n",
       "    <tr>\n",
       "      <th>3</th>\n",
       "      <td>11</td>\n",
       "      <td>강서구</td>\n",
       "      <td>11500</td>\n",
       "    </tr>\n",
       "    <tr>\n",
       "      <th>4</th>\n",
       "      <td>11</td>\n",
       "      <td>관악구</td>\n",
       "      <td>11620</td>\n",
       "    </tr>\n",
       "    <tr>\n",
       "      <th>...</th>\n",
       "      <td>...</td>\n",
       "      <td>...</td>\n",
       "      <td>...</td>\n",
       "    </tr>\n",
       "    <tr>\n",
       "      <th>245</th>\n",
       "      <td>46</td>\n",
       "      <td>함평군</td>\n",
       "      <td>46860</td>\n",
       "    </tr>\n",
       "    <tr>\n",
       "      <th>246</th>\n",
       "      <td>46</td>\n",
       "      <td>해남군</td>\n",
       "      <td>46820</td>\n",
       "    </tr>\n",
       "    <tr>\n",
       "      <th>247</th>\n",
       "      <td>46</td>\n",
       "      <td>화순군</td>\n",
       "      <td>46790</td>\n",
       "    </tr>\n",
       "    <tr>\n",
       "      <th>248</th>\n",
       "      <td>50</td>\n",
       "      <td>서귀포시</td>\n",
       "      <td>50130</td>\n",
       "    </tr>\n",
       "    <tr>\n",
       "      <th>249</th>\n",
       "      <td>50</td>\n",
       "      <td>제주시</td>\n",
       "      <td>50110</td>\n",
       "    </tr>\n",
       "  </tbody>\n",
       "</table>\n",
       "<p>250 rows × 3 columns</p>\n",
       "</div>"
      ],
      "text/plain": [
       "    city_code district_name district_code\n",
       "0          11           강남구         11680\n",
       "1          11           강동구         11740\n",
       "2          11           강북구         11305\n",
       "3          11           강서구         11500\n",
       "4          11           관악구         11620\n",
       "..        ...           ...           ...\n",
       "245        46           함평군         46860\n",
       "246        46           해남군         46820\n",
       "247        46           화순군         46790\n",
       "248        50          서귀포시         50130\n",
       "249        50           제주시         50110\n",
       "\n",
       "[250 rows x 3 columns]"
      ]
     },
     "execution_count": 85,
     "metadata": {},
     "output_type": "execute_result"
    }
   ],
   "source": [
    "district"
   ]
  },
  {
   "cell_type": "code",
   "execution_count": 86,
   "id": "e6cb1c24-d5a0-4bcd-bdfd-284ca2f97c64",
   "metadata": {},
   "outputs": [],
   "source": [
    "district.to_csv(\"district.csv\", index = False)"
   ]
  },
  {
   "cell_type": "code",
   "execution_count": 87,
   "id": "9280318e-6df2-4446-b352-afb904196477",
   "metadata": {},
   "outputs": [],
   "source": [
    "neighborhood = df[[\"시군구_code\", \"읍면동_명\", \"읍면동_code\"]]"
   ]
  },
  {
   "cell_type": "code",
   "execution_count": 88,
   "id": "18a7ad02-b976-4703-99fc-4e7fdf07513a",
   "metadata": {},
   "outputs": [],
   "source": [
    "neighborhood = neighborhood.drop_duplicates().reset_index(drop=True)"
   ]
  },
  {
   "cell_type": "code",
   "execution_count": 89,
   "id": "60b14f61-0794-4cac-b6d1-355dcc0b003a",
   "metadata": {},
   "outputs": [],
   "source": [
    "neighborhood.columns = [\"district_code\", \"neighborhood_name\", \"neighborhood_code\"]"
   ]
  },
  {
   "cell_type": "code",
   "execution_count": 90,
   "id": "c093b4b2-4f16-49d6-af15-b833253572f6",
   "metadata": {},
   "outputs": [
    {
     "data": {
      "text/html": [
       "<div>\n",
       "<style scoped>\n",
       "    .dataframe tbody tr th:only-of-type {\n",
       "        vertical-align: middle;\n",
       "    }\n",
       "\n",
       "    .dataframe tbody tr th {\n",
       "        vertical-align: top;\n",
       "    }\n",
       "\n",
       "    .dataframe thead th {\n",
       "        text-align: right;\n",
       "    }\n",
       "</style>\n",
       "<table border=\"1\" class=\"dataframe\">\n",
       "  <thead>\n",
       "    <tr style=\"text-align: right;\">\n",
       "      <th></th>\n",
       "      <th>district_code</th>\n",
       "      <th>neighborhood_name</th>\n",
       "      <th>neighborhood_code</th>\n",
       "    </tr>\n",
       "  </thead>\n",
       "  <tbody>\n",
       "    <tr>\n",
       "      <th>0</th>\n",
       "      <td>11680</td>\n",
       "      <td>개포동</td>\n",
       "      <td>1168010300</td>\n",
       "    </tr>\n",
       "    <tr>\n",
       "      <th>1</th>\n",
       "      <td>11680</td>\n",
       "      <td>논현동</td>\n",
       "      <td>1168010800</td>\n",
       "    </tr>\n",
       "    <tr>\n",
       "      <th>2</th>\n",
       "      <td>11680</td>\n",
       "      <td>대치동</td>\n",
       "      <td>1168010600</td>\n",
       "    </tr>\n",
       "    <tr>\n",
       "      <th>3</th>\n",
       "      <td>11680</td>\n",
       "      <td>도곡동</td>\n",
       "      <td>1168011800</td>\n",
       "    </tr>\n",
       "    <tr>\n",
       "      <th>4</th>\n",
       "      <td>11680</td>\n",
       "      <td>삼성동</td>\n",
       "      <td>1168010500</td>\n",
       "    </tr>\n",
       "    <tr>\n",
       "      <th>...</th>\n",
       "      <td>...</td>\n",
       "      <td>...</td>\n",
       "      <td>...</td>\n",
       "    </tr>\n",
       "    <tr>\n",
       "      <th>2809</th>\n",
       "      <td>50110</td>\n",
       "      <td>한림읍</td>\n",
       "      <td>5011025000</td>\n",
       "    </tr>\n",
       "    <tr>\n",
       "      <th>2810</th>\n",
       "      <td>50110</td>\n",
       "      <td>해안동</td>\n",
       "      <td>5011013900</td>\n",
       "    </tr>\n",
       "    <tr>\n",
       "      <th>2811</th>\n",
       "      <td>50110</td>\n",
       "      <td>화북이동</td>\n",
       "      <td>5011011200</td>\n",
       "    </tr>\n",
       "    <tr>\n",
       "      <th>2812</th>\n",
       "      <td>50110</td>\n",
       "      <td>화북일동</td>\n",
       "      <td>5011011100</td>\n",
       "    </tr>\n",
       "    <tr>\n",
       "      <th>2813</th>\n",
       "      <td>50110</td>\n",
       "      <td>회천동</td>\n",
       "      <td>5011013300</td>\n",
       "    </tr>\n",
       "  </tbody>\n",
       "</table>\n",
       "<p>2814 rows × 3 columns</p>\n",
       "</div>"
      ],
      "text/plain": [
       "     district_code neighborhood_name neighborhood_code\n",
       "0            11680               개포동        1168010300\n",
       "1            11680               논현동        1168010800\n",
       "2            11680               대치동        1168010600\n",
       "3            11680               도곡동        1168011800\n",
       "4            11680               삼성동        1168010500\n",
       "...            ...               ...               ...\n",
       "2809         50110               한림읍        5011025000\n",
       "2810         50110               해안동        5011013900\n",
       "2811         50110              화북이동        5011011200\n",
       "2812         50110              화북일동        5011011100\n",
       "2813         50110               회천동        5011013300\n",
       "\n",
       "[2814 rows x 3 columns]"
      ]
     },
     "execution_count": 90,
     "metadata": {},
     "output_type": "execute_result"
    }
   ],
   "source": [
    "neighborhood"
   ]
  },
  {
   "cell_type": "code",
   "execution_count": 91,
   "id": "10d3b3ae-2601-414a-aded-6a701c4067be",
   "metadata": {},
   "outputs": [],
   "source": [
    "neighborhood.to_csv(\"neighborhood.csv\", index = False)"
   ]
  },
  {
   "cell_type": "code",
   "execution_count": null,
   "id": "14b1ef70-e8cc-4bd7-8e9e-42e902b9e1ab",
   "metadata": {},
   "outputs": [],
   "source": []
  }
 ],
 "metadata": {
  "kernelspec": {
   "display_name": "Python 3 (ipykernel)",
   "language": "python",
   "name": "python3"
  },
  "language_info": {
   "codemirror_mode": {
    "name": "ipython",
    "version": 3
   },
   "file_extension": ".py",
   "mimetype": "text/x-python",
   "name": "python",
   "nbconvert_exporter": "python",
   "pygments_lexer": "ipython3",
   "version": "3.12.4"
  }
 },
 "nbformat": 4,
 "nbformat_minor": 5
}
